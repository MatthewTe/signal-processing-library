{
 "cells": [
  {
   "cell_type": "code",
   "execution_count": 1,
   "metadata": {},
   "outputs": [
    {
     "name": "stderr",
     "output_type": "stream",
     "text": [
      "/Users/matthewteelucksingh/miniconda3/envs/signal_processing/lib/python3.8/site-packages/pydub/utils.py:170: RuntimeWarning: Couldn't find ffmpeg or avconv - defaulting to ffmpeg, but may not work\n",
      "  warn(\"Couldn't find ffmpeg or avconv - defaulting to ffmpeg, but may not work\", RuntimeWarning)\n"
     ]
    }
   ],
   "source": [
    "# Importing the Velkoz signal processing library:\n",
    "from signal_processing.core_signal_objects import AudioSignal\n",
    "\n",
    "# Importing data manipulation packages:\n",
    "import pandas as pd"
   ]
  },
  {
   "cell_type": "code",
   "execution_count": 6,
   "metadata": {},
   "outputs": [
    {
     "name": "stdout",
     "output_type": "stream",
     "text": [
      "../data/ESC-50-master/audio/1-100032-A-0.wav\n"
     ]
    },
    {
     "ename": "NameError",
     "evalue": "name 'st_window_size' is not defined",
     "output_type": "error",
     "traceback": [
      "\u001b[0;31m---------------------------------------------------------------------------\u001b[0m",
      "\u001b[0;31mNameError\u001b[0m                                 Traceback (most recent call last)",
      "\u001b[0;32m<ipython-input-6-7ef9ca9f77ad>\u001b[0m in \u001b[0;36m<module>\u001b[0;34m\u001b[0m\n\u001b[1;32m     11\u001b[0m \u001b[0;31m# Creating AudioSignal and performing all data transformations on it:\u001b[0m\u001b[0;34m\u001b[0m\u001b[0;34m\u001b[0m\u001b[0;34m\u001b[0m\u001b[0m\n\u001b[1;32m     12\u001b[0m \u001b[0mdog_signal\u001b[0m \u001b[0;34m=\u001b[0m \u001b[0mAudioSignal\u001b[0m\u001b[0;34m(\u001b[0m\u001b[0;34m\"../data/ESC-50-master/audio/1-100032-A-0.wav\"\u001b[0m\u001b[0;34m)\u001b[0m\u001b[0;34m\u001b[0m\u001b[0;34m\u001b[0m\u001b[0m\n\u001b[0;32m---> 13\u001b[0;31m \u001b[0mdog_signal\u001b[0m\u001b[0;34m.\u001b[0m\u001b[0m_perform_short_term_feature_extraction\u001b[0m\u001b[0;34m(\u001b[0m\u001b[0;34m)\u001b[0m\u001b[0;34m\u001b[0m\u001b[0;34m\u001b[0m\u001b[0m\n\u001b[0m\u001b[1;32m     14\u001b[0m \u001b[0mdog_signal\u001b[0m\u001b[0;34m.\u001b[0m\u001b[0m_calculate_spectogram\u001b[0m\u001b[0;34m(\u001b[0m\u001b[0;34m)\u001b[0m\u001b[0;34m\u001b[0m\u001b[0;34m\u001b[0m\u001b[0m\n\u001b[1;32m     15\u001b[0m \u001b[0mdog_signal\u001b[0m\u001b[0;34m.\u001b[0m\u001b[0m_calculate_fast_fourier_transform\u001b[0m\u001b[0;34m(\u001b[0m\u001b[0;34m)\u001b[0m\u001b[0;34m\u001b[0m\u001b[0;34m\u001b[0m\u001b[0m\n",
      "\u001b[0;32m~/Projects/signal-processing-library/src/velkoz-signal-processing-library/signal_processing/core_signal_objects.py\u001b[0m in \u001b[0;36m_perform_short_term_feature_extraction\u001b[0;34m(self)\u001b[0m\n\u001b[1;32m     34\u001b[0m                         \u001b[0mself\u001b[0m\u001b[0;34m.\u001b[0m\u001b[0mamplitude_timeseries\u001b[0m\u001b[0;34m,\u001b[0m\u001b[0;34m\u001b[0m\u001b[0;34m\u001b[0m\u001b[0m\n\u001b[1;32m     35\u001b[0m                         \u001b[0mself\u001b[0m\u001b[0;34m.\u001b[0m\u001b[0msampling_rate\u001b[0m\u001b[0;34m,\u001b[0m\u001b[0;34m\u001b[0m\u001b[0;34m\u001b[0m\u001b[0m\n\u001b[0;32m---> 36\u001b[0;31m                         \u001b[0mst_window_size\u001b[0m\u001b[0;34m,\u001b[0m\u001b[0;34m\u001b[0m\u001b[0;34m\u001b[0m\u001b[0m\n\u001b[0m\u001b[1;32m     37\u001b[0m \t\t\tst_window_stp)\n\u001b[1;32m     38\u001b[0m \u001b[0;34m\u001b[0m\u001b[0m\n",
      "\u001b[0;31mNameError\u001b[0m: name 'st_window_size' is not defined"
     ]
    }
   ],
   "source": [
    "\"Extracting wav audio files from the ESC-50 Dataset:\"\n",
    "\n",
    "# Extracting the ESC-50 csv file with audio file data labels:\n",
    "esc50_metadata = pd.read_csv(\"../data/ESC-50-master/meta/esc50.csv\")\n",
    "audio_file_dir_path = \"../data/ESC-50-master/audio\"\n",
    "\n",
    "# A Dog audio sound:\n",
    "test_dog_path = audio_file_dir_path + f\"/{esc50_metadata['filename'][0]}\"\n",
    "print(test_dog_path)\n",
    "\n",
    "# Creating AudioSignal and performing all data transformations on it:\n",
    "dog_signal = AudioSignal(\"../data/ESC-50-master/audio/1-100032-A-0.wav\") \n",
    "dog_signal._perform_short_term_feature_extraction()\n",
    "dog_signal._calculate_spectogram()\n",
    "dog_signal._calculate_fast_fourier_transform()"
   ]
  },
  {
   "cell_type": "code",
   "execution_count": null,
   "metadata": {},
   "outputs": [],
   "source": []
  }
 ],
 "metadata": {
  "kernelspec": {
   "display_name": "Python 3",
   "language": "python",
   "name": "python3"
  },
  "language_info": {
   "codemirror_mode": {
    "name": "ipython",
    "version": 3
   },
   "file_extension": ".py",
   "mimetype": "text/x-python",
   "name": "python",
   "nbconvert_exporter": "python",
   "pygments_lexer": "ipython3",
   "version": "3.8.5"
  }
 },
 "nbformat": 4,
 "nbformat_minor": 4
}
