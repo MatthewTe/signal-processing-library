{
 "cells": [
  {
   "cell_type": "code",
   "execution_count": 1,
   "metadata": {},
   "outputs": [
    {
     "name": "stderr",
     "output_type": "stream",
     "text": [
      "/Users/matthewteelucksingh/miniconda3/envs/signal_processing/lib/python3.8/site-packages/pydub/utils.py:170: RuntimeWarning: Couldn't find ffmpeg or avconv - defaulting to ffmpeg, but may not work\n",
      "  warn(\"Couldn't find ffmpeg or avconv - defaulting to ffmpeg, but may not work\", RuntimeWarning)\n"
     ]
    }
   ],
   "source": [
    "# Importing the Velkoz signal processing library:\n",
    "from signal_processing.core_signal_objects import AudioSignal\n",
    "\n",
    "# Importing data manipulation packages:\n",
    "import pandas as pd\n",
    "\n",
    "# Importing visualization packages:\n",
    "import matplotlib.pyplot as plt"
   ]
  },
  {
   "cell_type": "code",
   "execution_count": 4,
   "metadata": {},
   "outputs": [
    {
     "name": "stdout",
     "output_type": "stream",
     "text": [
      "../data/ESC-50-master/audio/1-100032-A-0.wav\n"
     ]
    },
    {
     "ename": "AttributeError",
     "evalue": "module 'numpy' has no attribute 'linespace'",
     "output_type": "error",
     "traceback": [
      "\u001b[0;31m---------------------------------------------------------------------------\u001b[0m",
      "\u001b[0;31mAttributeError\u001b[0m                            Traceback (most recent call last)",
      "\u001b[0;32m<ipython-input-4-91c33adfe1bd>\u001b[0m in \u001b[0;36m<module>\u001b[0;34m\u001b[0m\n\u001b[1;32m     12\u001b[0m \u001b[0mdog_signal\u001b[0m \u001b[0;34m=\u001b[0m \u001b[0mAudioSignal\u001b[0m\u001b[0;34m(\u001b[0m\u001b[0;34m\"../data/ESC-50-master/audio/1-100032-A-0.wav\"\u001b[0m\u001b[0;34m)\u001b[0m\u001b[0;34m\u001b[0m\u001b[0;34m\u001b[0m\u001b[0m\n\u001b[1;32m     13\u001b[0m \u001b[0mdog_signal\u001b[0m\u001b[0;34m.\u001b[0m\u001b[0m_perform_short_term_feature_extraction\u001b[0m\u001b[0;34m(\u001b[0m\u001b[0;34m)\u001b[0m\u001b[0;34m\u001b[0m\u001b[0;34m\u001b[0m\u001b[0m\n\u001b[0;32m---> 14\u001b[0;31m \u001b[0mdog_signal\u001b[0m\u001b[0;34m.\u001b[0m\u001b[0m_calculate_short_term_fourier_transform\u001b[0m\u001b[0;34m(\u001b[0m\u001b[0;36m2048\u001b[0m\u001b[0;34m)\u001b[0m\u001b[0;34m\u001b[0m\u001b[0;34m\u001b[0m\u001b[0m\n\u001b[0m",
      "\u001b[0;32m~/Projects/signal-processing-library/src/velkoz-signal-processing-library/signal_processing/core_signal_objects.py\u001b[0m in \u001b[0;36m_calculate_short_term_fourier_transform\u001b[0;34m(self, n_fft, hop_length)\u001b[0m\n\u001b[1;32m     67\u001b[0m \t\t\thop_length=self.hop_length))\n\u001b[1;32m     68\u001b[0m \u001b[0;34m\u001b[0m\u001b[0m\n\u001b[0;32m---> 69\u001b[0;31m \t\tself.stft_frequency = np.linespace(0, self.sampling_rate, \n\u001b[0m\u001b[1;32m     70\u001b[0m \t\t\tlen(self.stft_magnitude))\n\u001b[1;32m     71\u001b[0m \u001b[0;34m\u001b[0m\u001b[0m\n",
      "\u001b[0;32m~/miniconda3/envs/signal_processing/lib/python3.8/site-packages/numpy/__init__.py\u001b[0m in \u001b[0;36m__getattr__\u001b[0;34m(attr)\u001b[0m\n\u001b[1;32m    212\u001b[0m                 \u001b[0;32mreturn\u001b[0m \u001b[0mTester\u001b[0m\u001b[0;34m\u001b[0m\u001b[0;34m\u001b[0m\u001b[0m\n\u001b[1;32m    213\u001b[0m             \u001b[0;32melse\u001b[0m\u001b[0;34m:\u001b[0m\u001b[0;34m\u001b[0m\u001b[0;34m\u001b[0m\u001b[0m\n\u001b[0;32m--> 214\u001b[0;31m                 raise AttributeError(\"module {!r} has no attribute \"\n\u001b[0m\u001b[1;32m    215\u001b[0m                                      \"{!r}\".format(__name__, attr))\n\u001b[1;32m    216\u001b[0m \u001b[0;34m\u001b[0m\u001b[0m\n",
      "\u001b[0;31mAttributeError\u001b[0m: module 'numpy' has no attribute 'linespace'"
     ]
    }
   ],
   "source": [
    "\"Extracting wav audio files from the ESC-50 Dataset:\"\n",
    "\n",
    "# Extracting the ESC-50 csv file with audio file data labels:\n",
    "esc50_metadata = pd.read_csv(\"../data/ESC-50-master/meta/esc50.csv\")\n",
    "audio_file_dir_path = \"../data/ESC-50-master/audio\"\n",
    "\n",
    "# A Dog audio sound:\n",
    "test_dog_path = audio_file_dir_path + f\"/{esc50_metadata['filename'][0]}\"\n",
    "print(test_dog_path)\n",
    "\n",
    "# Creating AudioSignal and performing all data transformations on it:\n",
    "dog_signal = AudioSignal(\"../data/ESC-50-master/audio/1-100032-A-0.wav\") \n",
    "dog_signal._perform_short_term_feature_extraction()\n",
    "dog_signal._calculate_short_term_fourier_transform(2048)"
   ]
  },
  {
   "cell_type": "code",
   "execution_count": 3,
   "metadata": {},
   "outputs": [
    {
     "ename": "AttributeError",
     "evalue": "'AudioSignal' object has no attribute 'specgram'",
     "output_type": "error",
     "traceback": [
      "\u001b[0;31m---------------------------------------------------------------------------\u001b[0m",
      "\u001b[0;31mAttributeError\u001b[0m                            Traceback (most recent call last)",
      "\u001b[0;32m<ipython-input-3-a261b8a5e4a1>\u001b[0m in \u001b[0;36m<module>\u001b[0;34m\u001b[0m\n\u001b[0;32m----> 1\u001b[0;31m \u001b[0mprint\u001b[0m\u001b[0;34m(\u001b[0m\u001b[0mdog_signal\u001b[0m\u001b[0;34m.\u001b[0m\u001b[0mspecgram\u001b[0m\u001b[0;34m)\u001b[0m\u001b[0;34m\u001b[0m\u001b[0;34m\u001b[0m\u001b[0m\n\u001b[0m",
      "\u001b[0;31mAttributeError\u001b[0m: 'AudioSignal' object has no attribute 'specgram'"
     ]
    }
   ],
   "source": []
  },
  {
   "cell_type": "code",
   "execution_count": null,
   "metadata": {},
   "outputs": [],
   "source": []
  },
  {
   "cell_type": "code",
   "execution_count": null,
   "metadata": {},
   "outputs": [],
   "source": []
  }
 ],
 "metadata": {
  "kernelspec": {
   "display_name": "Python 3",
   "language": "python",
   "name": "python3"
  },
  "language_info": {
   "codemirror_mode": {
    "name": "ipython",
    "version": 3
   },
   "file_extension": ".py",
   "mimetype": "text/x-python",
   "name": "python",
   "nbconvert_exporter": "python",
   "pygments_lexer": "ipython3",
   "version": "3.8.5"
  }
 },
 "nbformat": 4,
 "nbformat_minor": 4
}
