{
 "cells": [
  {
   "cell_type": "code",
   "execution_count": 1,
   "metadata": {},
   "outputs": [
    {
     "name": "stderr",
     "output_type": "stream",
     "text": [
      "/Users/matthewteelucksingh/miniconda3/envs/signal_processing/lib/python3.8/site-packages/pydub/utils.py:170: RuntimeWarning: Couldn't find ffmpeg or avconv - defaulting to ffmpeg, but may not work\n",
      "  warn(\"Couldn't find ffmpeg or avconv - defaulting to ffmpeg, but may not work\", RuntimeWarning)\n"
     ]
    }
   ],
   "source": [
    "# Importing the Velkoz signal processing library:\n",
    "from signal_processing.core_signal_objects import AudioSignal\n",
    "\n",
    "# Importing data manipulation packages:\n",
    "import pandas as pd\n",
    "\n",
    "# Importing visualization packages:\n",
    "import matplotlib.pyplot as plt"
   ]
  },
  {
   "cell_type": "code",
   "execution_count": 2,
   "metadata": {},
   "outputs": [
    {
     "name": "stdout",
     "output_type": "stream",
     "text": [
      "../data/ESC-50-master/audio/1-100032-A-0.wav\n"
     ]
    },
    {
     "name": "stderr",
     "output_type": "stream",
     "text": [
      "100%|██████████| 99/99 [00:00<00:00, 15669.29it/s]\n"
     ]
    },
    {
     "data": {
      "image/png": "[encoded data removed]",
      "text/plain": [
       "<Figure size 432x288 with 2 Axes>"
      ]
     },
     "metadata": {
      "needs_background": "light"
     },
     "output_type": "display_data"
    },
    {
     "name": "stdout",
     "output_type": "stream",
     "text": [
      "(99, 551)\n"
     ]
    }
   ],
   "source": [
    "\"Extracting wav audio files from the ESC-50 Dataset:\"\n",
    "\n",
    "# Extracting the ESC-50 csv file with audio file data labels:\n",
    "esc50_metadata = pd.read_csv(\"../data/ESC-50-master/meta/esc50.csv\")\n",
    "audio_file_dir_path = \"../data/ESC-50-master/audio\"\n",
    "\n",
    "# A Dog audio sound:\n",
    "test_dog_path = audio_file_dir_path + f\"/{esc50_metadata['filename'][0]}\"\n",
    "print(test_dog_path)\n",
    "\n",
    "# Creating AudioSignal and performing all data transformations on it:\n",
    "dog_signal = AudioSignal(\"../data/ESC-50-master/audio/1-100032-A-0.wav\") \n",
    "dog_signal._perform_short_term_feature_extraction()\n",
    "dog_signal._calculate_spectogram()\n",
    "dog_signal._calculate_fast_fourier_transform()"
   ]
  },
  {
   "cell_type": "code",
   "execution_count": 3,
   "metadata": {},
   "outputs": [
    {
     "name": "stdout",
     "output_type": "stream",
     "text": [
      "[[3.02957116e-07 1.45754885e-23 0.00000000e+00 ... 0.00000000e+00\n",
      "  0.00000000e+00 4.15520612e-26]\n",
      " [3.02957116e-07 1.45754885e-23 0.00000000e+00 ... 0.00000000e+00\n",
      "  0.00000000e+00 4.15520612e-26]\n",
      " [3.02957116e-07 1.45754885e-23 0.00000000e+00 ... 0.00000000e+00\n",
      "  0.00000000e+00 4.15520612e-26]\n",
      " ...\n",
      " [3.02957116e-07 1.45754885e-23 0.00000000e+00 ... 0.00000000e+00\n",
      "  0.00000000e+00 4.15520612e-26]\n",
      " [3.02957116e-07 1.45754885e-23 0.00000000e+00 ... 0.00000000e+00\n",
      "  0.00000000e+00 4.15520612e-26]\n",
      " [3.02957116e-07 1.45754885e-23 0.00000000e+00 ... 0.00000000e+00\n",
      "  0.00000000e+00 4.15520612e-26]]\n"
     ]
    }
   ],
   "source": [
    "print(dog_signal.specgram)"
   ]
  },
  {
   "cell_type": "code",
   "execution_count": null,
   "metadata": {},
   "outputs": [],
   "source": []
  },
  {
   "cell_type": "code",
   "execution_count": null,
   "metadata": {},
   "outputs": [],
   "source": []
  }
 ],
 "metadata": {
  "kernelspec": {
   "display_name": "Python 3",
   "language": "python",
   "name": "python3"
  },
  "language_info": {
   "codemirror_mode": {
    "name": "ipython",
    "version": 3
   },
   "file_extension": ".py",
   "mimetype": "text/x-python",
   "name": "python",
   "nbconvert_exporter": "python",
   "pygments_lexer": "ipython3",
   "version": "3.8.5"
  }
 },
 "nbformat": 4,
 "nbformat_minor": 4
}
